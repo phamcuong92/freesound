{
 "cells": [
  {
   "cell_type": "markdown",
   "metadata": {},
   "source": [
    "We will be using `fastai2` which is still under active development. I am using pip editable install as explained in the [fastai2 repository](https://github.com/fastai/fastai2). This gives me a little bit more of control and also allows me to to navigate through the code. \n",
    "\n",
    "Alternatively, you can install `fastai2` directly from github: `pip install git+https://github.com/fastai/fastai2`\n",
    "\n",
    "When working on this notebook, I was at this version (hash in git commits) of the library: `3f27f55bb298591aef8f2f72e32615317cc2f77e`"
   ]
  },
  {
   "cell_type": "code",
   "execution_count": 1,
   "metadata": {},
   "outputs": [],
   "source": [
    "from fastai2.test import *\n",
    "from fastai2.basics import *\n",
    "from fastai2.callback.all import *\n",
    "from fastai2.vision.all import *\n",
    "\n",
    "from pathlib import Path\n",
    "import pandas as pd\n",
    "import numpy as np\n",
    "import librosa"
   ]
  },
  {
   "cell_type": "markdown",
   "metadata": {},
   "source": [
    "The first order of business will be to read in our data."
   ]
  },
  {
   "cell_type": "code",
   "execution_count": 2,
   "metadata": {},
   "outputs": [],
   "source": [
    "trn_df = pd.read_csv('data/train.csv')\n",
    "trn_paths = list(Path('data/audio_train/').iterdir())"
   ]
  },
  {
   "cell_type": "code",
   "execution_count": 3,
   "metadata": {},
   "outputs": [
    {
     "data": {
      "text/plain": [
       "[PosixPath('data/audio_train/5fca79da.wav'),\n",
       " PosixPath('data/audio_train/5f3f655e.wav'),\n",
       " PosixPath('data/audio_train/8c0e42bb.wav'),\n",
       " PosixPath('data/audio_train/a9bd898d.wav')]"
      ]
     },
     "execution_count": 3,
     "metadata": {},
     "output_type": "execute_result"
    }
   ],
   "source": [
    "trn_paths[:4]"
   ]
  },
  {
   "cell_type": "markdown",
   "metadata": {},
   "source": [
    "Our first model will be a simple CNN on first two seconds of audio downsampled to 16 khz.\n",
    "\n",
    "Let's load the data with the medium-level API `DataSource`. Let's first define how the sounds should be read in and later we will look at constructing the labels.\n",
    "\n",
    "We could resample the audio files on the fly, but that is quite an expensive operation."
   ]
  },
  {
   "cell_type": "code",
   "execution_count": 4,
   "metadata": {},
   "outputs": [],
   "source": [
    "path = trn_paths[0]"
   ]
  },
  {
   "cell_type": "code",
   "execution_count": 5,
   "metadata": {},
   "outputs": [
    {
     "name": "stdout",
     "output_type": "stream",
     "text": [
      "CPU times: user 733 ms, sys: 19.8 ms, total: 753 ms\n",
      "Wall time: 752 ms\n"
     ]
    },
    {
     "data": {
      "text/plain": [
       "(array([-4.5412817e-06, -4.5701829e-05, -1.4590675e-05, ...,\n",
       "        -1.3681429e-05, -4.5426914e-05, -5.1247978e-05], dtype=float32), 16000)"
      ]
     },
     "execution_count": 5,
     "metadata": {},
     "output_type": "execute_result"
    }
   ],
   "source": [
    "%time librosa.core.load(path, sr=16000)"
   ]
  },
  {
   "cell_type": "code",
   "execution_count": 6,
   "metadata": {},
   "outputs": [
    {
     "name": "stdout",
     "output_type": "stream",
     "text": [
      "CPU times: user 0 ns, sys: 3.81 ms, total: 3.81 ms\n",
      "Wall time: 3.12 ms\n"
     ]
    },
    {
     "data": {
      "text/plain": [
       "(array([ 0.0000000e+00, -3.0517578e-05, -3.0517578e-05, ...,\n",
       "        -3.0517578e-05, -6.1035156e-05, -3.0517578e-05], dtype=float32), 44100)"
      ]
     },
     "execution_count": 6,
     "metadata": {},
     "output_type": "execute_result"
    }
   ],
   "source": [
    "%time librosa.core.load(path, sr=None)"
   ]
  },
  {
   "cell_type": "markdown",
   "metadata": {},
   "source": [
    "Reading a file without resampling is much, much quicker.\n",
    "\n",
    "Let's resample the files beforehand and save them to disk."
   ]
  },
  {
   "cell_type": "code",
   "execution_count": 7,
   "metadata": {},
   "outputs": [],
   "source": [
    "!rm -rf data/audio_train_16k\n",
    "!rm -rf data/audio_test_16k"
   ]
  },
  {
   "cell_type": "code",
   "execution_count": 8,
   "metadata": {},
   "outputs": [],
   "source": [
    "!mkdir data/audio_train_16k\n",
    "!mkdir data/audio_test_16k"
   ]
  },
  {
   "cell_type": "code",
   "execution_count": 9,
   "metadata": {},
   "outputs": [],
   "source": [
    "def resample(path, target_sr, output_dir):\n",
    "    x, sr = librosa.core.load(path, sr=target_sr)\n",
    "    librosa.output.write_wav(f'{output_dir}/{path.name}', x, sr, norm=True)\n",
    "    \n",
    "def resample_train(path): resample(path, 16000, 'data/audio_train_16k/')\n",
    "def resample_test(path): resample(path, 16000, 'data/audio_test_16k/')"
   ]
  },
  {
   "cell_type": "code",
   "execution_count": 10,
   "metadata": {},
   "outputs": [
    {
     "data": {
      "text/html": [],
      "text/plain": [
       "<IPython.core.display.HTML object>"
      ]
     },
     "metadata": {},
     "output_type": "display_data"
    },
    {
     "name": "stdout",
     "output_type": "stream",
     "text": [
      "CPU times: user 6.12 s, sys: 658 ms, total: 6.78 s\n",
      "Wall time: 7min 30s\n"
     ]
    },
    {
     "data": {
      "text/plain": [
       "(#9473) [None,None,None,None,None,None,None,None,None,None...]"
      ]
     },
     "execution_count": 10,
     "metadata": {},
     "output_type": "execute_result"
    }
   ],
   "source": [
    "%time parallel(resample_train, trn_paths)"
   ]
  },
  {
   "cell_type": "markdown",
   "metadata": {},
   "source": [
    "There are 3 files in the test set that are corrupt - let's remove them before proceeding."
   ]
  },
  {
   "cell_type": "code",
   "execution_count": 15,
   "metadata": {},
   "outputs": [],
   "source": [
    "for fn in ['0b0427e2.wav', '6ea0099f.wav', 'b39975f5.wav']:\n",
    "    !rm data/audio_test/{fn} "
   ]
  },
  {
   "cell_type": "code",
   "execution_count": 17,
   "metadata": {},
   "outputs": [],
   "source": [
    "tst_paths = list(Path('data/audio_test/').iterdir())"
   ]
  },
  {
   "cell_type": "code",
   "execution_count": 18,
   "metadata": {},
   "outputs": [
    {
     "data": {
      "text/html": [],
      "text/plain": [
       "<IPython.core.display.HTML object>"
      ]
     },
     "metadata": {},
     "output_type": "display_data"
    },
    {
     "name": "stdout",
     "output_type": "stream",
     "text": [
      "CPU times: user 6.17 s, sys: 823 ms, total: 6.99 s\n",
      "Wall time: 6min 38s\n"
     ]
    },
    {
     "data": {
      "text/plain": [
       "(#9397) [None,None,None,None,None,None,None,None,None,None...]"
      ]
     },
     "execution_count": 18,
     "metadata": {},
     "output_type": "execute_result"
    }
   ],
   "source": [
    "%time parallel(resample_test, tst_paths)"
   ]
  },
  {
   "cell_type": "code",
   "execution_count": null,
   "metadata": {},
   "outputs": [],
   "source": []
  }
 ],
 "metadata": {
  "kernelspec": {
   "display_name": "Python 3",
   "language": "python",
   "name": "python3"
  },
  "language_info": {
   "codemirror_mode": {
    "name": "ipython",
    "version": 3
   },
   "file_extension": ".py",
   "mimetype": "text/x-python",
   "name": "python",
   "nbconvert_exporter": "python",
   "pygments_lexer": "ipython3",
   "version": "3.7.3"
  }
 },
 "nbformat": 4,
 "nbformat_minor": 2
}
